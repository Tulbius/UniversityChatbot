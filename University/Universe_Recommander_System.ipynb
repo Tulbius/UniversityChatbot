{
  "nbformat": 4,
  "nbformat_minor": 0,
  "metadata": {
    "kernelspec": {
      "display_name": "Python 3",
      "language": "python",
      "name": "python3"
    },
    "language_info": {
      "codemirror_mode": {
        "name": "ipython",
        "version": 3
      },
      "file_extension": ".py",
      "mimetype": "text/x-python",
      "name": "python",
      "nbconvert_exporter": "python",
      "pygments_lexer": "ipython3",
      "version": "3.8.3"
    },
    "colab": {
      "name": "Universe - Recommender System.ipynb",
      "provenance": [],
      "collapsed_sections": []
    }
  },
  "cells": [
    {
      "cell_type": "markdown",
      "metadata": {
        "id": "NaxH8wPUtulT"
      },
      "source": [
        "# Data Exploration"
      ]
    },
    {
      "cell_type": "markdown",
      "metadata": {
        "id": "chURL0z5tulY"
      },
      "source": [
        "## Explore The Data: What Data Are We Using?\n",
        "\n",
        "We are using the World University Rankings 2020 dataset for our Universe bot.\n",
        "This dataset contains information about 1395 universities from 92 countries.\n",
        "Using the information about these universities, the challenge is to build a model to recommend the top universities that fit the user, based on the following fields:\n",
        "\n",
        "- **Rank_Char** (object) - Ranking of the university according to The Times Higher Education\n",
        "- **Score_Rank** (int64) - Ranking of the university according to the `Score_Result`\n",
        "- **University** (object) - Name of the university\n",
        "- **Country** (object) - Country where the university is located\n",
        "- **Number_students** (object) - Number of students enrolled in the university\n",
        "- **Numb_students_per_Staff** (float64) - Ratio between the number of students and the university staff\n",
        "- **International_Students** (object) - Percentage of international students\n",
        "- **Percentage_Female** (object) - Percentage of female students\n",
        "- **Percentage_Male** (object) - Percentage of male students\n",
        "- **Teaching** (float64) - Score in teaching\n",
        "- **Research** (float64) - Score in reasearch\n",
        "- **Citations** (float64) - Score in citations\n",
        "- **Industry_Income** (float64) - Score in industry income\n",
        "- **International_Outlook** (float64) - Score in international outlook\n",
        "- **Score_Result** (float64) - Resulting score calculated by taking into account 30% of `Teaching`, 30% of `Research`, 30% of `Citations`, 7.5% of `International_Outlook` and 2.5% of `Industry_Income`)\n",
        "- **Overall_Ranking** (object) - Overall ranking of the university according to The Times Higher Education\n",
        "\n",
        "For our recommender system, we will use a content-based system and we will take into account : `Number_students`, `Teaching`, `Research`, `Citations`, `Industry_income` and `International_Outlook`."
      ]
    },
    {
      "cell_type": "markdown",
      "metadata": {
        "id": "fVSEibNItulZ"
      },
      "source": [
        "## Import libraries"
      ]
    },
    {
      "cell_type": "code",
      "metadata": {
        "id": "t55DmRiXtula"
      },
      "source": [
        "from google.colab import files\n",
        "import pandas as pd\n",
        "import numpy as np\n",
        "import math\n",
        "import sklearn.metrics.pairwise as pw\n",
        "from google.colab import auth\n",
        "import gspread\n",
        "from oauth2client.client import GoogleCredentials"
      ],
      "execution_count": 3,
      "outputs": []
    },
    {
      "cell_type": "markdown",
      "metadata": {
        "id": "ZDBlLbHrtulb"
      },
      "source": [
        "## Read in Data"
      ]
    },
    {
      "cell_type": "code",
      "metadata": {
        "colab": {
          "resources": {
            "http://localhost:8080/nbextensions/google.colab/files.js": {
              "data": "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",
              "ok": true,
              "headers": [
                [
                  "content-type",
                  "application/javascript"
                ]
              ],
              "status": 200,
              "status_text": ""
            }
          },
          "base_uri": "https://localhost:8080/",
          "height": 73
        },
        "id": "mWzrBL2u1cr3",
        "outputId": "960df38b-d83a-48ae-b26e-6b68f7d780fe"
      },
      "source": [
        "uploaded = files.upload()"
      ],
      "execution_count": 4,
      "outputs": [
        {
          "output_type": "display_data",
          "data": {
            "text/html": [
              "\n",
              "     <input type=\"file\" id=\"files-1b0c7100-0333-4142-8659-cb8ebf6a94df\" name=\"files[]\" multiple disabled\n",
              "        style=\"border:none\" />\n",
              "     <output id=\"result-1b0c7100-0333-4142-8659-cb8ebf6a94df\">\n",
              "      Upload widget is only available when the cell has been executed in the\n",
              "      current browser session. Please rerun this cell to enable.\n",
              "      </output>\n",
              "      <script src=\"/nbextensions/google.colab/files.js\"></script> "
            ],
            "text/plain": [
              "<IPython.core.display.HTML object>"
            ]
          },
          "metadata": {
            "tags": []
          }
        },
        {
          "output_type": "stream",
          "text": [
            "Saving Word_University_Rank_2020.csv to Word_University_Rank_2020.csv\n"
          ],
          "name": "stdout"
        }
      ]
    },
    {
      "cell_type": "code",
      "metadata": {
        "id": "p5yj4yL-tulb"
      },
      "source": [
        "university = pd.read_csv('Word_University_Rank_2020.csv', encoding=\"UTF-8\")"
      ],
      "execution_count": 5,
      "outputs": []
    },
    {
      "cell_type": "code",
      "metadata": {
        "id": "NghyATCXtulc"
      },
      "source": [
        "df = pd.DataFrame(university)"
      ],
      "execution_count": 6,
      "outputs": []
    },
    {
      "cell_type": "code",
      "metadata": {
        "id": "6IwbI91htulc",
        "colab": {
          "base_uri": "https://localhost:8080/",
          "height": 343
        },
        "outputId": "6bc8aeb3-1449-43ac-9828-bf722a30f4b1"
      },
      "source": [
        "df.head()"
      ],
      "execution_count": 7,
      "outputs": [
        {
          "output_type": "execute_result",
          "data": {
            "text/html": [
              "<div>\n",
              "<style scoped>\n",
              "    .dataframe tbody tr th:only-of-type {\n",
              "        vertical-align: middle;\n",
              "    }\n",
              "\n",
              "    .dataframe tbody tr th {\n",
              "        vertical-align: top;\n",
              "    }\n",
              "\n",
              "    .dataframe thead th {\n",
              "        text-align: right;\n",
              "    }\n",
              "</style>\n",
              "<table border=\"1\" class=\"dataframe\">\n",
              "  <thead>\n",
              "    <tr style=\"text-align: right;\">\n",
              "      <th></th>\n",
              "      <th>Rank_Char</th>\n",
              "      <th>Score_Rank</th>\n",
              "      <th>University</th>\n",
              "      <th>Country</th>\n",
              "      <th>Number_students</th>\n",
              "      <th>Numb_students_per_Staff</th>\n",
              "      <th>International_Students</th>\n",
              "      <th>Percentage_Female</th>\n",
              "      <th>Percentage_Male</th>\n",
              "      <th>Teaching</th>\n",
              "      <th>Research</th>\n",
              "      <th>Citations</th>\n",
              "      <th>Industry_Income</th>\n",
              "      <th>International_Outlook</th>\n",
              "      <th>Score_Result</th>\n",
              "      <th>Overall_Ranking</th>\n",
              "    </tr>\n",
              "  </thead>\n",
              "  <tbody>\n",
              "    <tr>\n",
              "      <th>0</th>\n",
              "      <td>1</td>\n",
              "      <td>1</td>\n",
              "      <td>University of Oxford</td>\n",
              "      <td>United Kingdom</td>\n",
              "      <td>20,664</td>\n",
              "      <td>11.2</td>\n",
              "      <td>41%</td>\n",
              "      <td>46%</td>\n",
              "      <td>54%</td>\n",
              "      <td>90.5</td>\n",
              "      <td>99.6</td>\n",
              "      <td>98.4</td>\n",
              "      <td>65.5</td>\n",
              "      <td>96.4</td>\n",
              "      <td>95.4</td>\n",
              "      <td>95.40</td>\n",
              "    </tr>\n",
              "    <tr>\n",
              "      <th>1</th>\n",
              "      <td>2</td>\n",
              "      <td>2</td>\n",
              "      <td>California Institute of Technology</td>\n",
              "      <td>United States</td>\n",
              "      <td>2,240</td>\n",
              "      <td>6.4</td>\n",
              "      <td>30%</td>\n",
              "      <td>34%</td>\n",
              "      <td>66%</td>\n",
              "      <td>92.1</td>\n",
              "      <td>97.2</td>\n",
              "      <td>97.9</td>\n",
              "      <td>88.0</td>\n",
              "      <td>82.5</td>\n",
              "      <td>94.5</td>\n",
              "      <td>94.50</td>\n",
              "    </tr>\n",
              "    <tr>\n",
              "      <th>2</th>\n",
              "      <td>3</td>\n",
              "      <td>3</td>\n",
              "      <td>University of Cambridge</td>\n",
              "      <td>United Kingdom</td>\n",
              "      <td>18,978</td>\n",
              "      <td>10.9</td>\n",
              "      <td>37%</td>\n",
              "      <td>47%</td>\n",
              "      <td>53%</td>\n",
              "      <td>91.4</td>\n",
              "      <td>98.7</td>\n",
              "      <td>95.8</td>\n",
              "      <td>59.3</td>\n",
              "      <td>95.0</td>\n",
              "      <td>94.4</td>\n",
              "      <td>94.40</td>\n",
              "    </tr>\n",
              "    <tr>\n",
              "      <th>3</th>\n",
              "      <td>4</td>\n",
              "      <td>4</td>\n",
              "      <td>Stanford University</td>\n",
              "      <td>United States</td>\n",
              "      <td>16,135</td>\n",
              "      <td>7.3</td>\n",
              "      <td>23%</td>\n",
              "      <td>43%</td>\n",
              "      <td>57%</td>\n",
              "      <td>92.8</td>\n",
              "      <td>96.4</td>\n",
              "      <td>99.9</td>\n",
              "      <td>66.2</td>\n",
              "      <td>79.5</td>\n",
              "      <td>94.3</td>\n",
              "      <td>94.30</td>\n",
              "    </tr>\n",
              "    <tr>\n",
              "      <th>4</th>\n",
              "      <td>5</td>\n",
              "      <td>5</td>\n",
              "      <td>Massachusetts Institute of Technology</td>\n",
              "      <td>United States</td>\n",
              "      <td>11,247</td>\n",
              "      <td>8.6</td>\n",
              "      <td>34%</td>\n",
              "      <td>39%</td>\n",
              "      <td>61%</td>\n",
              "      <td>90.5</td>\n",
              "      <td>92.4</td>\n",
              "      <td>99.5</td>\n",
              "      <td>86.9</td>\n",
              "      <td>89.0</td>\n",
              "      <td>93.6</td>\n",
              "      <td>93.60</td>\n",
              "    </tr>\n",
              "  </tbody>\n",
              "</table>\n",
              "</div>"
            ],
            "text/plain": [
              "  Rank_Char  Score_Rank  ... Score_Result Overall_Ranking\n",
              "0         1           1  ...         95.4           95.40\n",
              "1         2           2  ...         94.5           94.50\n",
              "2         3           3  ...         94.4           94.40\n",
              "3         4           4  ...         94.3           94.30\n",
              "4         5           5  ...         93.6           93.60\n",
              "\n",
              "[5 rows x 16 columns]"
            ]
          },
          "metadata": {
            "tags": []
          },
          "execution_count": 7
        }
      ]
    },
    {
      "cell_type": "code",
      "metadata": {
        "id": "t_-PsZdFtule",
        "colab": {
          "base_uri": "https://localhost:8080/"
        },
        "outputId": "7615b318-b747-4f1a-b13a-9d39da23023e"
      },
      "source": [
        "df.dtypes"
      ],
      "execution_count": 8,
      "outputs": [
        {
          "output_type": "execute_result",
          "data": {
            "text/plain": [
              "Rank_Char                   object\n",
              "Score_Rank                   int64\n",
              "University                  object\n",
              "Country                     object\n",
              "Number_students             object\n",
              "Numb_students_per_Staff    float64\n",
              "International_Students      object\n",
              "Percentage_Female           object\n",
              "Percentage_Male             object\n",
              "Teaching                   float64\n",
              "Research                   float64\n",
              "Citations                  float64\n",
              "Industry_Income            float64\n",
              "International_Outlook      float64\n",
              "Score_Result               float64\n",
              "Overall_Ranking             object\n",
              "dtype: object"
            ]
          },
          "metadata": {
            "tags": []
          },
          "execution_count": 8
        }
      ]
    },
    {
      "cell_type": "code",
      "metadata": {
        "id": "fSs_k46ttule",
        "colab": {
          "base_uri": "https://localhost:8080/"
        },
        "outputId": "5e9ed54f-7a7d-40a4-c41c-15b4b44bcb67"
      },
      "source": [
        "df.size"
      ],
      "execution_count": 9,
      "outputs": [
        {
          "output_type": "execute_result",
          "data": {
            "text/plain": [
              "22336"
            ]
          },
          "metadata": {
            "tags": []
          },
          "execution_count": 9
        }
      ]
    },
    {
      "cell_type": "code",
      "metadata": {
        "id": "L6tzsY8Atule",
        "colab": {
          "base_uri": "https://localhost:8080/"
        },
        "outputId": "5a575b5a-6695-4113-ec00-412718dfd980"
      },
      "source": [
        "df['University'].nunique()"
      ],
      "execution_count": 10,
      "outputs": [
        {
          "output_type": "execute_result",
          "data": {
            "text/plain": [
              "1395"
            ]
          },
          "metadata": {
            "tags": []
          },
          "execution_count": 10
        }
      ]
    },
    {
      "cell_type": "code",
      "metadata": {
        "id": "xAT8ooR1tulf",
        "colab": {
          "base_uri": "https://localhost:8080/"
        },
        "outputId": "3fa5ae6b-e535-4825-97f2-e0bcc48d28bc"
      },
      "source": [
        "df['Country'].nunique()"
      ],
      "execution_count": 11,
      "outputs": [
        {
          "output_type": "execute_result",
          "data": {
            "text/plain": [
              "92"
            ]
          },
          "metadata": {
            "tags": []
          },
          "execution_count": 11
        }
      ]
    },
    {
      "cell_type": "markdown",
      "metadata": {
        "id": "_QlWWXWcxwao"
      },
      "source": [
        "We need to exploit the number of students, so we first replace the comma with a dot in order to change the type of the variable to float."
      ]
    },
    {
      "cell_type": "code",
      "metadata": {
        "id": "KhpGo7xWtulf"
      },
      "source": [
        "df['Number_students'] = df['Number_students'].apply(lambda x: x.replace(',','.'))"
      ],
      "execution_count": 12,
      "outputs": []
    },
    {
      "cell_type": "code",
      "metadata": {
        "id": "vK--agUitulf"
      },
      "source": [
        "df['Number_students'] = df['Number_students'].astype(float, errors = 'raise')"
      ],
      "execution_count": 13,
      "outputs": []
    },
    {
      "cell_type": "code",
      "metadata": {
        "id": "gPEYfNhutulg",
        "colab": {
          "base_uri": "https://localhost:8080/"
        },
        "outputId": "e84bfccc-df36-492b-bd8d-9b01a3a7ee5a"
      },
      "source": [
        "df.dtypes"
      ],
      "execution_count": 14,
      "outputs": [
        {
          "output_type": "execute_result",
          "data": {
            "text/plain": [
              "Rank_Char                   object\n",
              "Score_Rank                   int64\n",
              "University                  object\n",
              "Country                     object\n",
              "Number_students            float64\n",
              "Numb_students_per_Staff    float64\n",
              "International_Students      object\n",
              "Percentage_Female           object\n",
              "Percentage_Male             object\n",
              "Teaching                   float64\n",
              "Research                   float64\n",
              "Citations                  float64\n",
              "Industry_Income            float64\n",
              "International_Outlook      float64\n",
              "Score_Result               float64\n",
              "Overall_Ranking             object\n",
              "dtype: object"
            ]
          },
          "metadata": {
            "tags": []
          },
          "execution_count": 14
        }
      ]
    },
    {
      "cell_type": "code",
      "metadata": {
        "id": "BbhKKWD3tulg",
        "colab": {
          "base_uri": "https://localhost:8080/",
          "height": 343
        },
        "outputId": "d0954cf8-5072-48e6-9415-1aaef7f2377b"
      },
      "source": [
        "df.head()"
      ],
      "execution_count": 15,
      "outputs": [
        {
          "output_type": "execute_result",
          "data": {
            "text/html": [
              "<div>\n",
              "<style scoped>\n",
              "    .dataframe tbody tr th:only-of-type {\n",
              "        vertical-align: middle;\n",
              "    }\n",
              "\n",
              "    .dataframe tbody tr th {\n",
              "        vertical-align: top;\n",
              "    }\n",
              "\n",
              "    .dataframe thead th {\n",
              "        text-align: right;\n",
              "    }\n",
              "</style>\n",
              "<table border=\"1\" class=\"dataframe\">\n",
              "  <thead>\n",
              "    <tr style=\"text-align: right;\">\n",
              "      <th></th>\n",
              "      <th>Rank_Char</th>\n",
              "      <th>Score_Rank</th>\n",
              "      <th>University</th>\n",
              "      <th>Country</th>\n",
              "      <th>Number_students</th>\n",
              "      <th>Numb_students_per_Staff</th>\n",
              "      <th>International_Students</th>\n",
              "      <th>Percentage_Female</th>\n",
              "      <th>Percentage_Male</th>\n",
              "      <th>Teaching</th>\n",
              "      <th>Research</th>\n",
              "      <th>Citations</th>\n",
              "      <th>Industry_Income</th>\n",
              "      <th>International_Outlook</th>\n",
              "      <th>Score_Result</th>\n",
              "      <th>Overall_Ranking</th>\n",
              "    </tr>\n",
              "  </thead>\n",
              "  <tbody>\n",
              "    <tr>\n",
              "      <th>0</th>\n",
              "      <td>1</td>\n",
              "      <td>1</td>\n",
              "      <td>University of Oxford</td>\n",
              "      <td>United Kingdom</td>\n",
              "      <td>20.664</td>\n",
              "      <td>11.2</td>\n",
              "      <td>41%</td>\n",
              "      <td>46%</td>\n",
              "      <td>54%</td>\n",
              "      <td>90.5</td>\n",
              "      <td>99.6</td>\n",
              "      <td>98.4</td>\n",
              "      <td>65.5</td>\n",
              "      <td>96.4</td>\n",
              "      <td>95.4</td>\n",
              "      <td>95.40</td>\n",
              "    </tr>\n",
              "    <tr>\n",
              "      <th>1</th>\n",
              "      <td>2</td>\n",
              "      <td>2</td>\n",
              "      <td>California Institute of Technology</td>\n",
              "      <td>United States</td>\n",
              "      <td>2.240</td>\n",
              "      <td>6.4</td>\n",
              "      <td>30%</td>\n",
              "      <td>34%</td>\n",
              "      <td>66%</td>\n",
              "      <td>92.1</td>\n",
              "      <td>97.2</td>\n",
              "      <td>97.9</td>\n",
              "      <td>88.0</td>\n",
              "      <td>82.5</td>\n",
              "      <td>94.5</td>\n",
              "      <td>94.50</td>\n",
              "    </tr>\n",
              "    <tr>\n",
              "      <th>2</th>\n",
              "      <td>3</td>\n",
              "      <td>3</td>\n",
              "      <td>University of Cambridge</td>\n",
              "      <td>United Kingdom</td>\n",
              "      <td>18.978</td>\n",
              "      <td>10.9</td>\n",
              "      <td>37%</td>\n",
              "      <td>47%</td>\n",
              "      <td>53%</td>\n",
              "      <td>91.4</td>\n",
              "      <td>98.7</td>\n",
              "      <td>95.8</td>\n",
              "      <td>59.3</td>\n",
              "      <td>95.0</td>\n",
              "      <td>94.4</td>\n",
              "      <td>94.40</td>\n",
              "    </tr>\n",
              "    <tr>\n",
              "      <th>3</th>\n",
              "      <td>4</td>\n",
              "      <td>4</td>\n",
              "      <td>Stanford University</td>\n",
              "      <td>United States</td>\n",
              "      <td>16.135</td>\n",
              "      <td>7.3</td>\n",
              "      <td>23%</td>\n",
              "      <td>43%</td>\n",
              "      <td>57%</td>\n",
              "      <td>92.8</td>\n",
              "      <td>96.4</td>\n",
              "      <td>99.9</td>\n",
              "      <td>66.2</td>\n",
              "      <td>79.5</td>\n",
              "      <td>94.3</td>\n",
              "      <td>94.30</td>\n",
              "    </tr>\n",
              "    <tr>\n",
              "      <th>4</th>\n",
              "      <td>5</td>\n",
              "      <td>5</td>\n",
              "      <td>Massachusetts Institute of Technology</td>\n",
              "      <td>United States</td>\n",
              "      <td>11.247</td>\n",
              "      <td>8.6</td>\n",
              "      <td>34%</td>\n",
              "      <td>39%</td>\n",
              "      <td>61%</td>\n",
              "      <td>90.5</td>\n",
              "      <td>92.4</td>\n",
              "      <td>99.5</td>\n",
              "      <td>86.9</td>\n",
              "      <td>89.0</td>\n",
              "      <td>93.6</td>\n",
              "      <td>93.60</td>\n",
              "    </tr>\n",
              "  </tbody>\n",
              "</table>\n",
              "</div>"
            ],
            "text/plain": [
              "  Rank_Char  Score_Rank  ... Score_Result Overall_Ranking\n",
              "0         1           1  ...         95.4           95.40\n",
              "1         2           2  ...         94.5           94.50\n",
              "2         3           3  ...         94.4           94.40\n",
              "3         4           4  ...         94.3           94.30\n",
              "4         5           5  ...         93.6           93.60\n",
              "\n",
              "[5 rows x 16 columns]"
            ]
          },
          "metadata": {
            "tags": []
          },
          "execution_count": 15
        }
      ]
    },
    {
      "cell_type": "markdown",
      "metadata": {
        "id": "r62LS0KAueGr"
      },
      "source": [
        "## Recommander System\n"
      ]
    },
    {
      "cell_type": "markdown",
      "metadata": {
        "id": "K9fjzYLkx8nH"
      },
      "source": [
        "We first perform normalization to rescale our data."
      ]
    },
    {
      "cell_type": "code",
      "metadata": {
        "id": "8uFH_B0Dtulh"
      },
      "source": [
        "def normalization(df):\n",
        "    df['Number_students'] = df['Number_students']/np.sqrt(df['Number_students'])\n",
        "    df['Numb_students_per_Staff'] = df['Numb_students_per_Staff']/np.sqrt(df['Numb_students_per_Staff'])\n",
        "    df.iloc[:,9:15] = df.iloc[:,9:15]/np.sqrt(df.iloc[:,9:15])\n",
        "    return df"
      ],
      "execution_count": 16,
      "outputs": []
    },
    {
      "cell_type": "code",
      "metadata": {
        "id": "-hynf31Xtulh"
      },
      "source": [
        "df = normalization(df)"
      ],
      "execution_count": 17,
      "outputs": []
    },
    {
      "cell_type": "code",
      "metadata": {
        "id": "LXciiBXDtulh",
        "colab": {
          "base_uri": "https://localhost:8080/",
          "height": 677
        },
        "outputId": "02ab9c2a-8c63-464a-d393-c858d230703e"
      },
      "source": [
        "df"
      ],
      "execution_count": 18,
      "outputs": [
        {
          "output_type": "execute_result",
          "data": {
            "text/html": [
              "<div>\n",
              "<style scoped>\n",
              "    .dataframe tbody tr th:only-of-type {\n",
              "        vertical-align: middle;\n",
              "    }\n",
              "\n",
              "    .dataframe tbody tr th {\n",
              "        vertical-align: top;\n",
              "    }\n",
              "\n",
              "    .dataframe thead th {\n",
              "        text-align: right;\n",
              "    }\n",
              "</style>\n",
              "<table border=\"1\" class=\"dataframe\">\n",
              "  <thead>\n",
              "    <tr style=\"text-align: right;\">\n",
              "      <th></th>\n",
              "      <th>Rank_Char</th>\n",
              "      <th>Score_Rank</th>\n",
              "      <th>University</th>\n",
              "      <th>Country</th>\n",
              "      <th>Number_students</th>\n",
              "      <th>Numb_students_per_Staff</th>\n",
              "      <th>International_Students</th>\n",
              "      <th>Percentage_Female</th>\n",
              "      <th>Percentage_Male</th>\n",
              "      <th>Teaching</th>\n",
              "      <th>Research</th>\n",
              "      <th>Citations</th>\n",
              "      <th>Industry_Income</th>\n",
              "      <th>International_Outlook</th>\n",
              "      <th>Score_Result</th>\n",
              "      <th>Overall_Ranking</th>\n",
              "    </tr>\n",
              "  </thead>\n",
              "  <tbody>\n",
              "    <tr>\n",
              "      <th>0</th>\n",
              "      <td>1</td>\n",
              "      <td>1</td>\n",
              "      <td>University of Oxford</td>\n",
              "      <td>United Kingdom</td>\n",
              "      <td>4.545767</td>\n",
              "      <td>3.346640</td>\n",
              "      <td>41%</td>\n",
              "      <td>46%</td>\n",
              "      <td>54%</td>\n",
              "      <td>9.513149</td>\n",
              "      <td>9.979980</td>\n",
              "      <td>9.919677</td>\n",
              "      <td>8.093207</td>\n",
              "      <td>9.818350</td>\n",
              "      <td>9.767292</td>\n",
              "      <td>95.40</td>\n",
              "    </tr>\n",
              "    <tr>\n",
              "      <th>1</th>\n",
              "      <td>2</td>\n",
              "      <td>2</td>\n",
              "      <td>California Institute of Technology</td>\n",
              "      <td>United States</td>\n",
              "      <td>1.496663</td>\n",
              "      <td>2.529822</td>\n",
              "      <td>30%</td>\n",
              "      <td>34%</td>\n",
              "      <td>66%</td>\n",
              "      <td>9.596874</td>\n",
              "      <td>9.859006</td>\n",
              "      <td>9.894443</td>\n",
              "      <td>9.380832</td>\n",
              "      <td>9.082951</td>\n",
              "      <td>9.721111</td>\n",
              "      <td>94.50</td>\n",
              "    </tr>\n",
              "    <tr>\n",
              "      <th>2</th>\n",
              "      <td>3</td>\n",
              "      <td>3</td>\n",
              "      <td>University of Cambridge</td>\n",
              "      <td>United Kingdom</td>\n",
              "      <td>4.356375</td>\n",
              "      <td>3.301515</td>\n",
              "      <td>37%</td>\n",
              "      <td>47%</td>\n",
              "      <td>53%</td>\n",
              "      <td>9.560335</td>\n",
              "      <td>9.934787</td>\n",
              "      <td>9.787747</td>\n",
              "      <td>7.700649</td>\n",
              "      <td>9.746794</td>\n",
              "      <td>9.715966</td>\n",
              "      <td>94.40</td>\n",
              "    </tr>\n",
              "    <tr>\n",
              "      <th>3</th>\n",
              "      <td>4</td>\n",
              "      <td>4</td>\n",
              "      <td>Stanford University</td>\n",
              "      <td>United States</td>\n",
              "      <td>4.016840</td>\n",
              "      <td>2.701851</td>\n",
              "      <td>23%</td>\n",
              "      <td>43%</td>\n",
              "      <td>57%</td>\n",
              "      <td>9.633276</td>\n",
              "      <td>9.818350</td>\n",
              "      <td>9.994999</td>\n",
              "      <td>8.136338</td>\n",
              "      <td>8.916277</td>\n",
              "      <td>9.710819</td>\n",
              "      <td>94.30</td>\n",
              "    </tr>\n",
              "    <tr>\n",
              "      <th>4</th>\n",
              "      <td>5</td>\n",
              "      <td>5</td>\n",
              "      <td>Massachusetts Institute of Technology</td>\n",
              "      <td>United States</td>\n",
              "      <td>3.353655</td>\n",
              "      <td>2.932576</td>\n",
              "      <td>34%</td>\n",
              "      <td>39%</td>\n",
              "      <td>61%</td>\n",
              "      <td>9.513149</td>\n",
              "      <td>9.612492</td>\n",
              "      <td>9.974969</td>\n",
              "      <td>9.322017</td>\n",
              "      <td>9.433981</td>\n",
              "      <td>9.674709</td>\n",
              "      <td>93.60</td>\n",
              "    </tr>\n",
              "    <tr>\n",
              "      <th>...</th>\n",
              "      <td>...</td>\n",
              "      <td>...</td>\n",
              "      <td>...</td>\n",
              "      <td>...</td>\n",
              "      <td>...</td>\n",
              "      <td>...</td>\n",
              "      <td>...</td>\n",
              "      <td>...</td>\n",
              "      <td>...</td>\n",
              "      <td>...</td>\n",
              "      <td>...</td>\n",
              "      <td>...</td>\n",
              "      <td>...</td>\n",
              "      <td>...</td>\n",
              "      <td>...</td>\n",
              "      <td>...</td>\n",
              "    </tr>\n",
              "    <tr>\n",
              "      <th>1391</th>\n",
              "      <td>1001+</td>\n",
              "      <td>531</td>\n",
              "      <td>Cear� State University</td>\n",
              "      <td>Brazil</td>\n",
              "      <td>4.491548</td>\n",
              "      <td>4.219005</td>\n",
              "      <td>0%</td>\n",
              "      <td>55%</td>\n",
              "      <td>45%</td>\n",
              "      <td>4.024922</td>\n",
              "      <td>2.880972</td>\n",
              "      <td>2.469818</td>\n",
              "      <td>5.966574</td>\n",
              "      <td>4.037326</td>\n",
              "      <td>3.361547</td>\n",
              "      <td>10.7�22.1</td>\n",
              "    </tr>\n",
              "    <tr>\n",
              "      <th>1392</th>\n",
              "      <td>1001+</td>\n",
              "      <td>532</td>\n",
              "      <td>Pontifical Catholic University of Minas Gerais</td>\n",
              "      <td>Brazil</td>\n",
              "      <td>5.839606</td>\n",
              "      <td>4.615192</td>\n",
              "      <td>0%</td>\n",
              "      <td>57%</td>\n",
              "      <td>43%</td>\n",
              "      <td>3.911521</td>\n",
              "      <td>2.774887</td>\n",
              "      <td>2.588436</td>\n",
              "      <td>5.924525</td>\n",
              "      <td>4.404543</td>\n",
              "      <td>3.346640</td>\n",
              "      <td>10.7�22.1</td>\n",
              "    </tr>\n",
              "    <tr>\n",
              "      <th>1393</th>\n",
              "      <td>1001+</td>\n",
              "      <td>533</td>\n",
              "      <td>Bashkir State University</td>\n",
              "      <td>Russian Federation</td>\n",
              "      <td>3.903332</td>\n",
              "      <td>3.331666</td>\n",
              "      <td>3%</td>\n",
              "      <td>63%</td>\n",
              "      <td>37%</td>\n",
              "      <td>4.123106</td>\n",
              "      <td>2.846050</td>\n",
              "      <td>2.121320</td>\n",
              "      <td>6.074537</td>\n",
              "      <td>4.086563</td>\n",
              "      <td>3.331666</td>\n",
              "      <td>10.7�22.1</td>\n",
              "    </tr>\n",
              "    <tr>\n",
              "      <th>1394</th>\n",
              "      <td>1001+</td>\n",
              "      <td>534</td>\n",
              "      <td>University of Caxias do Sul</td>\n",
              "      <td>Brazil</td>\n",
              "      <td>4.135336</td>\n",
              "      <td>4.989990</td>\n",
              "      <td>0%</td>\n",
              "      <td>54%</td>\n",
              "      <td>46%</td>\n",
              "      <td>3.714835</td>\n",
              "      <td>2.792848</td>\n",
              "      <td>2.756810</td>\n",
              "      <td>5.916080</td>\n",
              "      <td>4.207137</td>\n",
              "      <td>3.316625</td>\n",
              "      <td>10.7�22.1</td>\n",
              "    </tr>\n",
              "    <tr>\n",
              "      <th>1395</th>\n",
              "      <td>1001+</td>\n",
              "      <td>535</td>\n",
              "      <td>Tokyo Denki University</td>\n",
              "      <td>Japan</td>\n",
              "      <td>3.047130</td>\n",
              "      <td>5.059644</td>\n",
              "      <td>2%</td>\n",
              "      <td>12%</td>\n",
              "      <td>88%</td>\n",
              "      <td>3.898718</td>\n",
              "      <td>3.049590</td>\n",
              "      <td>1.843909</td>\n",
              "      <td>6.292853</td>\n",
              "      <td>4.207137</td>\n",
              "      <td>3.271085</td>\n",
              "      <td>10.7�22.1</td>\n",
              "    </tr>\n",
              "  </tbody>\n",
              "</table>\n",
              "<p>1396 rows × 16 columns</p>\n",
              "</div>"
            ],
            "text/plain": [
              "     Rank_Char  Score_Rank  ... Score_Result Overall_Ranking\n",
              "0            1           1  ...     9.767292           95.40\n",
              "1            2           2  ...     9.721111           94.50\n",
              "2            3           3  ...     9.715966           94.40\n",
              "3            4           4  ...     9.710819           94.30\n",
              "4            5           5  ...     9.674709           93.60\n",
              "...        ...         ...  ...          ...             ...\n",
              "1391     1001+         531  ...     3.361547       10.7�22.1\n",
              "1392     1001+         532  ...     3.346640       10.7�22.1\n",
              "1393     1001+         533  ...     3.331666       10.7�22.1\n",
              "1394     1001+         534  ...     3.316625       10.7�22.1\n",
              "1395     1001+         535  ...     3.271085       10.7�22.1\n",
              "\n",
              "[1396 rows x 16 columns]"
            ]
          },
          "metadata": {
            "tags": []
          },
          "execution_count": 18
        }
      ]
    },
    {
      "cell_type": "markdown",
      "metadata": {
        "id": "xowPFDj5ytdJ"
      },
      "source": [
        "We drop the columns that are useless to our analysis."
      ]
    },
    {
      "cell_type": "code",
      "metadata": {
        "id": "BhNCZC_etulh"
      },
      "source": [
        "df = df.drop('Rank_Char', axis = 1)"
      ],
      "execution_count": 19,
      "outputs": []
    },
    {
      "cell_type": "code",
      "metadata": {
        "id": "Cn-Gisaetulh"
      },
      "source": [
        "df = df.drop('Overall_Ranking', axis = 1)"
      ],
      "execution_count": 20,
      "outputs": []
    },
    {
      "cell_type": "code",
      "metadata": {
        "id": "6JZlkaKGtuli",
        "colab": {
          "base_uri": "https://localhost:8080/",
          "height": 343
        },
        "outputId": "4a096984-bb8d-4a92-f2cb-68c82b3c22d7"
      },
      "source": [
        "df.head()"
      ],
      "execution_count": 21,
      "outputs": [
        {
          "output_type": "execute_result",
          "data": {
            "text/html": [
              "<div>\n",
              "<style scoped>\n",
              "    .dataframe tbody tr th:only-of-type {\n",
              "        vertical-align: middle;\n",
              "    }\n",
              "\n",
              "    .dataframe tbody tr th {\n",
              "        vertical-align: top;\n",
              "    }\n",
              "\n",
              "    .dataframe thead th {\n",
              "        text-align: right;\n",
              "    }\n",
              "</style>\n",
              "<table border=\"1\" class=\"dataframe\">\n",
              "  <thead>\n",
              "    <tr style=\"text-align: right;\">\n",
              "      <th></th>\n",
              "      <th>Score_Rank</th>\n",
              "      <th>University</th>\n",
              "      <th>Country</th>\n",
              "      <th>Number_students</th>\n",
              "      <th>Numb_students_per_Staff</th>\n",
              "      <th>International_Students</th>\n",
              "      <th>Percentage_Female</th>\n",
              "      <th>Percentage_Male</th>\n",
              "      <th>Teaching</th>\n",
              "      <th>Research</th>\n",
              "      <th>Citations</th>\n",
              "      <th>Industry_Income</th>\n",
              "      <th>International_Outlook</th>\n",
              "      <th>Score_Result</th>\n",
              "    </tr>\n",
              "  </thead>\n",
              "  <tbody>\n",
              "    <tr>\n",
              "      <th>0</th>\n",
              "      <td>1</td>\n",
              "      <td>University of Oxford</td>\n",
              "      <td>United Kingdom</td>\n",
              "      <td>4.545767</td>\n",
              "      <td>3.346640</td>\n",
              "      <td>41%</td>\n",
              "      <td>46%</td>\n",
              "      <td>54%</td>\n",
              "      <td>9.513149</td>\n",
              "      <td>9.979980</td>\n",
              "      <td>9.919677</td>\n",
              "      <td>8.093207</td>\n",
              "      <td>9.818350</td>\n",
              "      <td>9.767292</td>\n",
              "    </tr>\n",
              "    <tr>\n",
              "      <th>1</th>\n",
              "      <td>2</td>\n",
              "      <td>California Institute of Technology</td>\n",
              "      <td>United States</td>\n",
              "      <td>1.496663</td>\n",
              "      <td>2.529822</td>\n",
              "      <td>30%</td>\n",
              "      <td>34%</td>\n",
              "      <td>66%</td>\n",
              "      <td>9.596874</td>\n",
              "      <td>9.859006</td>\n",
              "      <td>9.894443</td>\n",
              "      <td>9.380832</td>\n",
              "      <td>9.082951</td>\n",
              "      <td>9.721111</td>\n",
              "    </tr>\n",
              "    <tr>\n",
              "      <th>2</th>\n",
              "      <td>3</td>\n",
              "      <td>University of Cambridge</td>\n",
              "      <td>United Kingdom</td>\n",
              "      <td>4.356375</td>\n",
              "      <td>3.301515</td>\n",
              "      <td>37%</td>\n",
              "      <td>47%</td>\n",
              "      <td>53%</td>\n",
              "      <td>9.560335</td>\n",
              "      <td>9.934787</td>\n",
              "      <td>9.787747</td>\n",
              "      <td>7.700649</td>\n",
              "      <td>9.746794</td>\n",
              "      <td>9.715966</td>\n",
              "    </tr>\n",
              "    <tr>\n",
              "      <th>3</th>\n",
              "      <td>4</td>\n",
              "      <td>Stanford University</td>\n",
              "      <td>United States</td>\n",
              "      <td>4.016840</td>\n",
              "      <td>2.701851</td>\n",
              "      <td>23%</td>\n",
              "      <td>43%</td>\n",
              "      <td>57%</td>\n",
              "      <td>9.633276</td>\n",
              "      <td>9.818350</td>\n",
              "      <td>9.994999</td>\n",
              "      <td>8.136338</td>\n",
              "      <td>8.916277</td>\n",
              "      <td>9.710819</td>\n",
              "    </tr>\n",
              "    <tr>\n",
              "      <th>4</th>\n",
              "      <td>5</td>\n",
              "      <td>Massachusetts Institute of Technology</td>\n",
              "      <td>United States</td>\n",
              "      <td>3.353655</td>\n",
              "      <td>2.932576</td>\n",
              "      <td>34%</td>\n",
              "      <td>39%</td>\n",
              "      <td>61%</td>\n",
              "      <td>9.513149</td>\n",
              "      <td>9.612492</td>\n",
              "      <td>9.974969</td>\n",
              "      <td>9.322017</td>\n",
              "      <td>9.433981</td>\n",
              "      <td>9.674709</td>\n",
              "    </tr>\n",
              "  </tbody>\n",
              "</table>\n",
              "</div>"
            ],
            "text/plain": [
              "   Score_Rank  ... Score_Result\n",
              "0           1  ...     9.767292\n",
              "1           2  ...     9.721111\n",
              "2           3  ...     9.715966\n",
              "3           4  ...     9.710819\n",
              "4           5  ...     9.674709\n",
              "\n",
              "[5 rows x 14 columns]"
            ]
          },
          "metadata": {
            "tags": []
          },
          "execution_count": 21
        }
      ]
    },
    {
      "cell_type": "markdown",
      "metadata": {
        "id": "k9spDo7my0HJ"
      },
      "source": [
        "We round our float variables to 5 decimals to keep the analysis easy."
      ]
    },
    {
      "cell_type": "code",
      "metadata": {
        "id": "hFuwgICituli"
      },
      "source": [
        "df['Number_students'] = round(df['Number_students'], 5)\n",
        "df['Numb_students_per_Staff'] = round(df['Numb_students_per_Staff'], 5)\n",
        "df['Teaching'] = round(df['Teaching'], 5)\n",
        "df['Research'] = round(df['Research'], 5)\n",
        "df['Citations'] = round(df['Citations'], 5)\n",
        "df['Industry_Income'] = round(df['Industry_Income'], 5)\n",
        "df['International_Outlook'] = round(df['International_Outlook'], 5)"
      ],
      "execution_count": 23,
      "outputs": []
    },
    {
      "cell_type": "code",
      "metadata": {
        "id": "-v6-pUKltuli",
        "colab": {
          "base_uri": "https://localhost:8080/",
          "height": 343
        },
        "outputId": "494ce575-fd82-444f-c360-3d93d939ee31"
      },
      "source": [
        "df.head()"
      ],
      "execution_count": 24,
      "outputs": [
        {
          "output_type": "execute_result",
          "data": {
            "text/html": [
              "<div>\n",
              "<style scoped>\n",
              "    .dataframe tbody tr th:only-of-type {\n",
              "        vertical-align: middle;\n",
              "    }\n",
              "\n",
              "    .dataframe tbody tr th {\n",
              "        vertical-align: top;\n",
              "    }\n",
              "\n",
              "    .dataframe thead th {\n",
              "        text-align: right;\n",
              "    }\n",
              "</style>\n",
              "<table border=\"1\" class=\"dataframe\">\n",
              "  <thead>\n",
              "    <tr style=\"text-align: right;\">\n",
              "      <th></th>\n",
              "      <th>Score_Rank</th>\n",
              "      <th>University</th>\n",
              "      <th>Country</th>\n",
              "      <th>Number_students</th>\n",
              "      <th>Numb_students_per_Staff</th>\n",
              "      <th>International_Students</th>\n",
              "      <th>Percentage_Female</th>\n",
              "      <th>Percentage_Male</th>\n",
              "      <th>Teaching</th>\n",
              "      <th>Research</th>\n",
              "      <th>Citations</th>\n",
              "      <th>Industry_Income</th>\n",
              "      <th>International_Outlook</th>\n",
              "      <th>Score_Result</th>\n",
              "    </tr>\n",
              "  </thead>\n",
              "  <tbody>\n",
              "    <tr>\n",
              "      <th>0</th>\n",
              "      <td>1</td>\n",
              "      <td>University of Oxford</td>\n",
              "      <td>United Kingdom</td>\n",
              "      <td>4.54577</td>\n",
              "      <td>3.34664</td>\n",
              "      <td>41%</td>\n",
              "      <td>46%</td>\n",
              "      <td>54%</td>\n",
              "      <td>9.51315</td>\n",
              "      <td>9.97998</td>\n",
              "      <td>9.91968</td>\n",
              "      <td>8.09321</td>\n",
              "      <td>9.81835</td>\n",
              "      <td>9.767292</td>\n",
              "    </tr>\n",
              "    <tr>\n",
              "      <th>1</th>\n",
              "      <td>2</td>\n",
              "      <td>California Institute of Technology</td>\n",
              "      <td>United States</td>\n",
              "      <td>1.49666</td>\n",
              "      <td>2.52982</td>\n",
              "      <td>30%</td>\n",
              "      <td>34%</td>\n",
              "      <td>66%</td>\n",
              "      <td>9.59687</td>\n",
              "      <td>9.85901</td>\n",
              "      <td>9.89444</td>\n",
              "      <td>9.38083</td>\n",
              "      <td>9.08295</td>\n",
              "      <td>9.721111</td>\n",
              "    </tr>\n",
              "    <tr>\n",
              "      <th>2</th>\n",
              "      <td>3</td>\n",
              "      <td>University of Cambridge</td>\n",
              "      <td>United Kingdom</td>\n",
              "      <td>4.35637</td>\n",
              "      <td>3.30151</td>\n",
              "      <td>37%</td>\n",
              "      <td>47%</td>\n",
              "      <td>53%</td>\n",
              "      <td>9.56033</td>\n",
              "      <td>9.93479</td>\n",
              "      <td>9.78775</td>\n",
              "      <td>7.70065</td>\n",
              "      <td>9.74679</td>\n",
              "      <td>9.715966</td>\n",
              "    </tr>\n",
              "    <tr>\n",
              "      <th>3</th>\n",
              "      <td>4</td>\n",
              "      <td>Stanford University</td>\n",
              "      <td>United States</td>\n",
              "      <td>4.01684</td>\n",
              "      <td>2.70185</td>\n",
              "      <td>23%</td>\n",
              "      <td>43%</td>\n",
              "      <td>57%</td>\n",
              "      <td>9.63328</td>\n",
              "      <td>9.81835</td>\n",
              "      <td>9.99500</td>\n",
              "      <td>8.13634</td>\n",
              "      <td>8.91628</td>\n",
              "      <td>9.710819</td>\n",
              "    </tr>\n",
              "    <tr>\n",
              "      <th>4</th>\n",
              "      <td>5</td>\n",
              "      <td>Massachusetts Institute of Technology</td>\n",
              "      <td>United States</td>\n",
              "      <td>3.35365</td>\n",
              "      <td>2.93258</td>\n",
              "      <td>34%</td>\n",
              "      <td>39%</td>\n",
              "      <td>61%</td>\n",
              "      <td>9.51315</td>\n",
              "      <td>9.61249</td>\n",
              "      <td>9.97497</td>\n",
              "      <td>9.32202</td>\n",
              "      <td>9.43398</td>\n",
              "      <td>9.674709</td>\n",
              "    </tr>\n",
              "  </tbody>\n",
              "</table>\n",
              "</div>"
            ],
            "text/plain": [
              "   Score_Rank  ... Score_Result\n",
              "0           1  ...     9.767292\n",
              "1           2  ...     9.721111\n",
              "2           3  ...     9.715966\n",
              "3           4  ...     9.710819\n",
              "4           5  ...     9.674709\n",
              "\n",
              "[5 rows x 14 columns]"
            ]
          },
          "metadata": {
            "tags": []
          },
          "execution_count": 24
        }
      ]
    },
    {
      "cell_type": "markdown",
      "metadata": {
        "id": "mGVueA0vucDw"
      },
      "source": [
        "We create our prediction function that will get the first three universities based on the parameters we need to build our system with. In this function, we calculate the similarity between our content items with the cosine similarity method. We only call for the first parameter `Number_students` because the cosine similarity function takes the entire row into account."
      ]
    },
    {
      "cell_type": "code",
      "metadata": {
        "id": "HZrPgsFQtulj"
      },
      "source": [
        "def prediction(nb,t,r,c,i,o, df_pred):\n",
        "    u = df_pred[df_pred['Number_students'] == nb]\n",
        "    score = [0,0,0]\n",
        "    univ_rank = [0,0,0]\n",
        "    for univ in df_pred['Number_students'] :\n",
        "        if univ !=nb:\n",
        "            U = df_pred[df_pred['Number_students'] == univ]\n",
        "            if (pw.cosine_similarity(u,U)[0][0] > score[0]):\n",
        "                score[2] = score[1]\n",
        "                univ_rank[2] = univ_rank[1]\n",
        "                score[1] = score[0]\n",
        "                univ_rank[1] = univ_rank[0]\n",
        "                score[0] = float(pw.cosine_similarity(u,U)[0][0])\n",
        "                univ_rank[0] = univ\n",
        "            elif (pw.cosine_similarity(u,U)[0][0] > score[1])  :\n",
        "                score[2] = score[1]\n",
        "                univ_rank[2] = univ_rank[1]\n",
        "                score[1] = float(pw.cosine_similarity(u,U)[0][0])\n",
        "                univ_rank[1] = univ\n",
        "            elif (pw.cosine_similarity(u,U)[0][0] > score[2]):\n",
        "                score[2] = float(pw.cosine_similarity(u,U)[0][0])\n",
        "                univ_rank[2] = univ\n",
        "    return univ_rank"
      ],
      "execution_count": 63,
      "outputs": []
    },
    {
      "cell_type": "code",
      "metadata": {
        "id": "cYhED5bGtulj",
        "colab": {
          "base_uri": "https://localhost:8080/"
        },
        "outputId": "5384ce63-730e-4469-df2c-98e4a6be59ff"
      },
      "source": [
        "df.dtypes"
      ],
      "execution_count": 26,
      "outputs": [
        {
          "output_type": "execute_result",
          "data": {
            "text/plain": [
              "Score_Rank                   int64\n",
              "University                  object\n",
              "Country                     object\n",
              "Number_students            float64\n",
              "Numb_students_per_Staff    float64\n",
              "International_Students      object\n",
              "Percentage_Female           object\n",
              "Percentage_Male             object\n",
              "Teaching                   float64\n",
              "Research                   float64\n",
              "Citations                  float64\n",
              "Industry_Income            float64\n",
              "International_Outlook      float64\n",
              "Score_Result               float64\n",
              "dtype: object"
            ]
          },
          "metadata": {
            "tags": []
          },
          "execution_count": 26
        }
      ]
    },
    {
      "cell_type": "code",
      "metadata": {
        "id": "RkoF-T5Dtulj"
      },
      "source": [
        "df_pred = df.copy()"
      ],
      "execution_count": 56,
      "outputs": []
    },
    {
      "cell_type": "markdown",
      "metadata": {
        "id": "yPBrnKD60qaR"
      },
      "source": [
        "In order to make our predictions, we need to drop all the columns that do not match our parameters. Thus, we use a copy of df that we call df_pred."
      ]
    },
    {
      "cell_type": "code",
      "metadata": {
        "id": "1DNp36kQtulj"
      },
      "source": [
        "df_pred = df_pred.drop(df.iloc[:,0:3], axis = 1)\n",
        "df_pred = df_pred.drop(df.iloc[:,4:8], axis = 1)\n",
        "df_pred = df_pred.drop(df.iloc[:,13:], axis = 1)"
      ],
      "execution_count": 57,
      "outputs": []
    },
    {
      "cell_type": "code",
      "metadata": {
        "id": "Rsj59niktulj",
        "colab": {
          "base_uri": "https://localhost:8080/",
          "height": 203
        },
        "outputId": "607af3ce-4079-406b-92e1-473bb6f5b474"
      },
      "source": [
        "df_pred.head()"
      ],
      "execution_count": 58,
      "outputs": [
        {
          "output_type": "execute_result",
          "data": {
            "text/html": [
              "<div>\n",
              "<style scoped>\n",
              "    .dataframe tbody tr th:only-of-type {\n",
              "        vertical-align: middle;\n",
              "    }\n",
              "\n",
              "    .dataframe tbody tr th {\n",
              "        vertical-align: top;\n",
              "    }\n",
              "\n",
              "    .dataframe thead th {\n",
              "        text-align: right;\n",
              "    }\n",
              "</style>\n",
              "<table border=\"1\" class=\"dataframe\">\n",
              "  <thead>\n",
              "    <tr style=\"text-align: right;\">\n",
              "      <th></th>\n",
              "      <th>Number_students</th>\n",
              "      <th>Teaching</th>\n",
              "      <th>Research</th>\n",
              "      <th>Citations</th>\n",
              "      <th>Industry_Income</th>\n",
              "      <th>International_Outlook</th>\n",
              "    </tr>\n",
              "  </thead>\n",
              "  <tbody>\n",
              "    <tr>\n",
              "      <th>0</th>\n",
              "      <td>4.54577</td>\n",
              "      <td>9.51315</td>\n",
              "      <td>9.97998</td>\n",
              "      <td>9.91968</td>\n",
              "      <td>8.09321</td>\n",
              "      <td>9.81835</td>\n",
              "    </tr>\n",
              "    <tr>\n",
              "      <th>1</th>\n",
              "      <td>1.49666</td>\n",
              "      <td>9.59687</td>\n",
              "      <td>9.85901</td>\n",
              "      <td>9.89444</td>\n",
              "      <td>9.38083</td>\n",
              "      <td>9.08295</td>\n",
              "    </tr>\n",
              "    <tr>\n",
              "      <th>2</th>\n",
              "      <td>4.35637</td>\n",
              "      <td>9.56033</td>\n",
              "      <td>9.93479</td>\n",
              "      <td>9.78775</td>\n",
              "      <td>7.70065</td>\n",
              "      <td>9.74679</td>\n",
              "    </tr>\n",
              "    <tr>\n",
              "      <th>3</th>\n",
              "      <td>4.01684</td>\n",
              "      <td>9.63328</td>\n",
              "      <td>9.81835</td>\n",
              "      <td>9.99500</td>\n",
              "      <td>8.13634</td>\n",
              "      <td>8.91628</td>\n",
              "    </tr>\n",
              "    <tr>\n",
              "      <th>4</th>\n",
              "      <td>3.35365</td>\n",
              "      <td>9.51315</td>\n",
              "      <td>9.61249</td>\n",
              "      <td>9.97497</td>\n",
              "      <td>9.32202</td>\n",
              "      <td>9.43398</td>\n",
              "    </tr>\n",
              "  </tbody>\n",
              "</table>\n",
              "</div>"
            ],
            "text/plain": [
              "   Number_students  Teaching  ...  Industry_Income  International_Outlook\n",
              "0          4.54577   9.51315  ...          8.09321                9.81835\n",
              "1          1.49666   9.59687  ...          9.38083                9.08295\n",
              "2          4.35637   9.56033  ...          7.70065                9.74679\n",
              "3          4.01684   9.63328  ...          8.13634                8.91628\n",
              "4          3.35365   9.51315  ...          9.32202                9.43398\n",
              "\n",
              "[5 rows x 6 columns]"
            ]
          },
          "metadata": {
            "tags": []
          },
          "execution_count": 58
        }
      ]
    },
    {
      "cell_type": "code",
      "metadata": {
        "id": "NEy1Hctmtulk"
      },
      "source": [
        "df_pred = df_pred.append({'Number_students': 4.78000, 'Teaching': 10, 'Research': 10, 'Citations': 10, 'Industry_Income': 10, 'International_Outlook': 10}, ignore_index=True)"
      ],
      "execution_count": 64,
      "outputs": []
    },
    {
      "cell_type": "code",
      "metadata": {
        "colab": {
          "base_uri": "https://localhost:8080/",
          "height": 417
        },
        "id": "HXN6DCD38jng",
        "outputId": "4ca3cd27-3fe4-43c5-d1a4-0041a2e0d558"
      },
      "source": [
        "df_pred"
      ],
      "execution_count": 65,
      "outputs": [
        {
          "output_type": "execute_result",
          "data": {
            "text/html": [
              "<div>\n",
              "<style scoped>\n",
              "    .dataframe tbody tr th:only-of-type {\n",
              "        vertical-align: middle;\n",
              "    }\n",
              "\n",
              "    .dataframe tbody tr th {\n",
              "        vertical-align: top;\n",
              "    }\n",
              "\n",
              "    .dataframe thead th {\n",
              "        text-align: right;\n",
              "    }\n",
              "</style>\n",
              "<table border=\"1\" class=\"dataframe\">\n",
              "  <thead>\n",
              "    <tr style=\"text-align: right;\">\n",
              "      <th></th>\n",
              "      <th>Number_students</th>\n",
              "      <th>Teaching</th>\n",
              "      <th>Research</th>\n",
              "      <th>Citations</th>\n",
              "      <th>Industry_Income</th>\n",
              "      <th>International_Outlook</th>\n",
              "    </tr>\n",
              "  </thead>\n",
              "  <tbody>\n",
              "    <tr>\n",
              "      <th>0</th>\n",
              "      <td>4.54577</td>\n",
              "      <td>9.51315</td>\n",
              "      <td>9.97998</td>\n",
              "      <td>9.91968</td>\n",
              "      <td>8.09321</td>\n",
              "      <td>9.81835</td>\n",
              "    </tr>\n",
              "    <tr>\n",
              "      <th>1</th>\n",
              "      <td>1.49666</td>\n",
              "      <td>9.59687</td>\n",
              "      <td>9.85901</td>\n",
              "      <td>9.89444</td>\n",
              "      <td>9.38083</td>\n",
              "      <td>9.08295</td>\n",
              "    </tr>\n",
              "    <tr>\n",
              "      <th>2</th>\n",
              "      <td>4.35637</td>\n",
              "      <td>9.56033</td>\n",
              "      <td>9.93479</td>\n",
              "      <td>9.78775</td>\n",
              "      <td>7.70065</td>\n",
              "      <td>9.74679</td>\n",
              "    </tr>\n",
              "    <tr>\n",
              "      <th>3</th>\n",
              "      <td>4.01684</td>\n",
              "      <td>9.63328</td>\n",
              "      <td>9.81835</td>\n",
              "      <td>9.99500</td>\n",
              "      <td>8.13634</td>\n",
              "      <td>8.91628</td>\n",
              "    </tr>\n",
              "    <tr>\n",
              "      <th>4</th>\n",
              "      <td>3.35365</td>\n",
              "      <td>9.51315</td>\n",
              "      <td>9.61249</td>\n",
              "      <td>9.97497</td>\n",
              "      <td>9.32202</td>\n",
              "      <td>9.43398</td>\n",
              "    </tr>\n",
              "    <tr>\n",
              "      <th>...</th>\n",
              "      <td>...</td>\n",
              "      <td>...</td>\n",
              "      <td>...</td>\n",
              "      <td>...</td>\n",
              "      <td>...</td>\n",
              "      <td>...</td>\n",
              "    </tr>\n",
              "    <tr>\n",
              "      <th>1392</th>\n",
              "      <td>5.83961</td>\n",
              "      <td>3.91152</td>\n",
              "      <td>2.77489</td>\n",
              "      <td>2.58844</td>\n",
              "      <td>5.92453</td>\n",
              "      <td>4.40454</td>\n",
              "    </tr>\n",
              "    <tr>\n",
              "      <th>1393</th>\n",
              "      <td>3.90333</td>\n",
              "      <td>4.12311</td>\n",
              "      <td>2.84605</td>\n",
              "      <td>2.12132</td>\n",
              "      <td>6.07454</td>\n",
              "      <td>4.08656</td>\n",
              "    </tr>\n",
              "    <tr>\n",
              "      <th>1394</th>\n",
              "      <td>4.13534</td>\n",
              "      <td>3.71484</td>\n",
              "      <td>2.79285</td>\n",
              "      <td>2.75681</td>\n",
              "      <td>5.91608</td>\n",
              "      <td>4.20714</td>\n",
              "    </tr>\n",
              "    <tr>\n",
              "      <th>1395</th>\n",
              "      <td>3.04713</td>\n",
              "      <td>3.89872</td>\n",
              "      <td>3.04959</td>\n",
              "      <td>1.84391</td>\n",
              "      <td>6.29285</td>\n",
              "      <td>4.20714</td>\n",
              "    </tr>\n",
              "    <tr>\n",
              "      <th>1396</th>\n",
              "      <td>4.78000</td>\n",
              "      <td>10.00000</td>\n",
              "      <td>10.00000</td>\n",
              "      <td>10.00000</td>\n",
              "      <td>10.00000</td>\n",
              "      <td>10.00000</td>\n",
              "    </tr>\n",
              "  </tbody>\n",
              "</table>\n",
              "<p>1397 rows × 6 columns</p>\n",
              "</div>"
            ],
            "text/plain": [
              "      Number_students  Teaching  ...  Industry_Income  International_Outlook\n",
              "0             4.54577   9.51315  ...          8.09321                9.81835\n",
              "1             1.49666   9.59687  ...          9.38083                9.08295\n",
              "2             4.35637   9.56033  ...          7.70065                9.74679\n",
              "3             4.01684   9.63328  ...          8.13634                8.91628\n",
              "4             3.35365   9.51315  ...          9.32202                9.43398\n",
              "...               ...       ...  ...              ...                    ...\n",
              "1392          5.83961   3.91152  ...          5.92453                4.40454\n",
              "1393          3.90333   4.12311  ...          6.07454                4.08656\n",
              "1394          4.13534   3.71484  ...          5.91608                4.20714\n",
              "1395          3.04713   3.89872  ...          6.29285                4.20714\n",
              "1396          4.78000  10.00000  ...         10.00000               10.00000\n",
              "\n",
              "[1397 rows x 6 columns]"
            ]
          },
          "metadata": {
            "tags": []
          },
          "execution_count": 65
        }
      ]
    },
    {
      "cell_type": "code",
      "metadata": {
        "id": "T4N5ikMotulk",
        "colab": {
          "base_uri": "https://localhost:8080/"
        },
        "outputId": "bf5ba87f-f016-417d-9013-2979ce781a89"
      },
      "source": [
        "pw.cosine_similarity(df_pred[df_pred['Number_students'] == 4.78000], df_pred[df_pred['Number_students'] == 1.49666])[0][0]"
      ],
      "execution_count": 36,
      "outputs": [
        {
          "output_type": "execute_result",
          "data": {
            "text/plain": [
              "0.9896176292795601"
            ]
          },
          "metadata": {
            "tags": []
          },
          "execution_count": 36
        }
      ]
    },
    {
      "cell_type": "code",
      "metadata": {
        "id": "aVqXqHFUtulk"
      },
      "source": [
        "result = prediction(4.78,10,10,10,10,10)"
      ],
      "execution_count": 37,
      "outputs": []
    },
    {
      "cell_type": "code",
      "metadata": {
        "id": "JB7ee4nKtull",
        "colab": {
          "base_uri": "https://localhost:8080/",
          "height": 134
        },
        "outputId": "4fa4e800-171d-4e97-cfbe-035950b5a23e"
      },
      "source": [
        "df[df['Number_students'] == 4.84644]"
      ],
      "execution_count": 38,
      "outputs": [
        {
          "output_type": "execute_result",
          "data": {
            "text/html": [
              "<div>\n",
              "<style scoped>\n",
              "    .dataframe tbody tr th:only-of-type {\n",
              "        vertical-align: middle;\n",
              "    }\n",
              "\n",
              "    .dataframe tbody tr th {\n",
              "        vertical-align: top;\n",
              "    }\n",
              "\n",
              "    .dataframe thead th {\n",
              "        text-align: right;\n",
              "    }\n",
              "</style>\n",
              "<table border=\"1\" class=\"dataframe\">\n",
              "  <thead>\n",
              "    <tr style=\"text-align: right;\">\n",
              "      <th></th>\n",
              "      <th>Score_Rank</th>\n",
              "      <th>University</th>\n",
              "      <th>Country</th>\n",
              "      <th>Number_students</th>\n",
              "      <th>Numb_students_per_Staff</th>\n",
              "      <th>International_Students</th>\n",
              "      <th>Percentage_Female</th>\n",
              "      <th>Percentage_Male</th>\n",
              "      <th>Teaching</th>\n",
              "      <th>Research</th>\n",
              "      <th>Citations</th>\n",
              "      <th>Industry_Income</th>\n",
              "      <th>International_Outlook</th>\n",
              "      <th>Score_Result</th>\n",
              "    </tr>\n",
              "  </thead>\n",
              "  <tbody>\n",
              "    <tr>\n",
              "      <th>199</th>\n",
              "      <td>132</td>\n",
              "      <td>George Washington University</td>\n",
              "      <td>United States</td>\n",
              "      <td>4.84644</td>\n",
              "      <td>3.61939</td>\n",
              "      <td>18%</td>\n",
              "      <td>60%</td>\n",
              "      <td>40%</td>\n",
              "      <td>6.97137</td>\n",
              "      <td>5.6921</td>\n",
              "      <td>9.02774</td>\n",
              "      <td>5.91608</td>\n",
              "      <td>7.44983</td>\n",
              "      <td>7.334848</td>\n",
              "    </tr>\n",
              "  </tbody>\n",
              "</table>\n",
              "</div>"
            ],
            "text/plain": [
              "     Score_Rank  ... Score_Result\n",
              "199         132  ...     7.334848\n",
              "\n",
              "[1 rows x 14 columns]"
            ]
          },
          "metadata": {
            "tags": []
          },
          "execution_count": 38
        }
      ]
    },
    {
      "cell_type": "code",
      "metadata": {
        "id": "Irib2Pkqtull",
        "colab": {
          "base_uri": "https://localhost:8080/",
          "height": 117
        },
        "outputId": "ecefb0f1-d3c1-4a23-ad96-be33f0185edf"
      },
      "source": [
        "df[df['Number_students'] == 6.56323]"
      ],
      "execution_count": 39,
      "outputs": [
        {
          "output_type": "execute_result",
          "data": {
            "text/html": [
              "<div>\n",
              "<style scoped>\n",
              "    .dataframe tbody tr th:only-of-type {\n",
              "        vertical-align: middle;\n",
              "    }\n",
              "\n",
              "    .dataframe tbody tr th {\n",
              "        vertical-align: top;\n",
              "    }\n",
              "\n",
              "    .dataframe thead th {\n",
              "        text-align: right;\n",
              "    }\n",
              "</style>\n",
              "<table border=\"1\" class=\"dataframe\">\n",
              "  <thead>\n",
              "    <tr style=\"text-align: right;\">\n",
              "      <th></th>\n",
              "      <th>Score_Rank</th>\n",
              "      <th>University</th>\n",
              "      <th>Country</th>\n",
              "      <th>Number_students</th>\n",
              "      <th>Numb_students_per_Staff</th>\n",
              "      <th>International_Students</th>\n",
              "      <th>Percentage_Female</th>\n",
              "      <th>Percentage_Male</th>\n",
              "      <th>Teaching</th>\n",
              "      <th>Research</th>\n",
              "      <th>Citations</th>\n",
              "      <th>Industry_Income</th>\n",
              "      <th>International_Outlook</th>\n",
              "      <th>Score_Result</th>\n",
              "    </tr>\n",
              "  </thead>\n",
              "  <tbody>\n",
              "    <tr>\n",
              "      <th>82</th>\n",
              "      <td>67</td>\n",
              "      <td>Sorbonne University</td>\n",
              "      <td>France</td>\n",
              "      <td>6.56323</td>\n",
              "      <td>3.67423</td>\n",
              "      <td>19%</td>\n",
              "      <td>58%</td>\n",
              "      <td>42%</td>\n",
              "      <td>7.89303</td>\n",
              "      <td>7.11337</td>\n",
              "      <td>8.93868</td>\n",
              "      <td>6.19677</td>\n",
              "      <td>8.31865</td>\n",
              "      <td>8.0</td>\n",
              "    </tr>\n",
              "  </tbody>\n",
              "</table>\n",
              "</div>"
            ],
            "text/plain": [
              "    Score_Rank           University  ... International_Outlook  Score_Result\n",
              "82          67  Sorbonne University  ...               8.31865           8.0\n",
              "\n",
              "[1 rows x 14 columns]"
            ]
          },
          "metadata": {
            "tags": []
          },
          "execution_count": 39
        }
      ]
    },
    {
      "cell_type": "code",
      "metadata": {
        "id": "nEOPFnSNtull",
        "colab": {
          "base_uri": "https://localhost:8080/",
          "height": 117
        },
        "outputId": "f4e5e9d6-46ef-4afb-b037-fc830bed834c"
      },
      "source": [
        "df[df['Number_students'] == 3.70027]"
      ],
      "execution_count": 40,
      "outputs": [
        {
          "output_type": "execute_result",
          "data": {
            "text/html": [
              "<div>\n",
              "<style scoped>\n",
              "    .dataframe tbody tr th:only-of-type {\n",
              "        vertical-align: middle;\n",
              "    }\n",
              "\n",
              "    .dataframe tbody tr th {\n",
              "        vertical-align: top;\n",
              "    }\n",
              "\n",
              "    .dataframe thead th {\n",
              "        text-align: right;\n",
              "    }\n",
              "</style>\n",
              "<table border=\"1\" class=\"dataframe\">\n",
              "  <thead>\n",
              "    <tr style=\"text-align: right;\">\n",
              "      <th></th>\n",
              "      <th>Score_Rank</th>\n",
              "      <th>University</th>\n",
              "      <th>Country</th>\n",
              "      <th>Number_students</th>\n",
              "      <th>Numb_students_per_Staff</th>\n",
              "      <th>International_Students</th>\n",
              "      <th>Percentage_Female</th>\n",
              "      <th>Percentage_Male</th>\n",
              "      <th>Teaching</th>\n",
              "      <th>Research</th>\n",
              "      <th>Citations</th>\n",
              "      <th>Industry_Income</th>\n",
              "      <th>International_Outlook</th>\n",
              "      <th>Score_Result</th>\n",
              "    </tr>\n",
              "  </thead>\n",
              "  <tbody>\n",
              "    <tr>\n",
              "      <th>488</th>\n",
              "      <td>265</td>\n",
              "      <td>Bournemouth University</td>\n",
              "      <td>United Kingdom</td>\n",
              "      <td>3.70027</td>\n",
              "      <td>4.13521</td>\n",
              "      <td>18%</td>\n",
              "      <td>55%</td>\n",
              "      <td>45%</td>\n",
              "      <td>5.76194</td>\n",
              "      <td>4.32435</td>\n",
              "      <td>7.44983</td>\n",
              "      <td>5.89915</td>\n",
              "      <td>8.93308</td>\n",
              "      <td>6.252999</td>\n",
              "    </tr>\n",
              "  </tbody>\n",
              "</table>\n",
              "</div>"
            ],
            "text/plain": [
              "     Score_Rank              University  ... International_Outlook  Score_Result\n",
              "488         265  Bournemouth University  ...               8.93308      6.252999\n",
              "\n",
              "[1 rows x 14 columns]"
            ]
          },
          "metadata": {
            "tags": []
          },
          "execution_count": 40
        }
      ]
    },
    {
      "cell_type": "markdown",
      "metadata": {
        "id": "OrpwnLDO1YUE"
      },
      "source": [
        "We then create a function to display the results : we obtain the top 3 universities that match best the criterias of the user of Universe."
      ]
    },
    {
      "cell_type": "code",
      "metadata": {
        "id": "TucgmWhHtull"
      },
      "source": [
        "def results(result):\n",
        "    L = []\n",
        "    for i in result:\n",
        "        L.append(df[df['Number_students'] == i].iloc[0,1])\n",
        "    return L"
      ],
      "execution_count": 68,
      "outputs": []
    },
    {
      "cell_type": "code",
      "metadata": {
        "id": "CkZMhZeLtull",
        "colab": {
          "base_uri": "https://localhost:8080/"
        },
        "outputId": "269b7e03-9de3-4f0f-8936-9b83374cdaa9"
      },
      "source": [
        "results()"
      ],
      "execution_count": 42,
      "outputs": [
        {
          "output_type": "execute_result",
          "data": {
            "text/plain": [
              "['Johns Hopkins University',\n",
              " 'Massachusetts Institute of Technology',\n",
              " 'Imperial College London']"
            ]
          },
          "metadata": {
            "tags": []
          },
          "execution_count": 42
        }
      ]
    },
    {
      "cell_type": "markdown",
      "metadata": {
        "id": "Fju_7YA01lUF"
      },
      "source": [
        "Thanks to a Google authentication, we can get the results of the Google Forms (the user of Universe will have answered the questions) in a dataframe. We can then obtain the specific recommendations to the user."
      ]
    },
    {
      "cell_type": "code",
      "metadata": {
        "id": "fozblY9Gtull",
        "colab": {
          "base_uri": "https://localhost:8080/"
        },
        "outputId": "11b1facf-d1ef-4c72-8181-2a861173b7f5"
      },
      "source": [
        "auth.authenticate_user()\n",
        "\n",
        "gc = gspread.authorize(GoogleCredentials.get_application_default())\n",
        "worksheet = gc.open('UNIVERSE (réponses)').sheet1\n",
        "\n",
        "# get_all_values gives a list of rows.\n",
        "rows = worksheet.get_all_values()\n",
        "print(rows)\n",
        "\n",
        "# Convert to a DataFrame and render.\n",
        "df_result = pd.DataFrame.from_records(rows)"
      ],
      "execution_count": 43,
      "outputs": [
        {
          "output_type": "stream",
          "text": [
            "[['Horodateur', 'Number of students', 'Score in teaching', 'Score in research', 'Score in citations', 'Score in industry income', 'Score in international outlook'], ['23/03/2021 15:37:14', '5000', '90', '80', '70', '30', '10']]\n"
          ],
          "name": "stdout"
        }
      ]
    },
    {
      "cell_type": "code",
      "metadata": {
        "colab": {
          "base_uri": "https://localhost:8080/",
          "height": 110
        },
        "id": "ryipD30-4I1Z",
        "outputId": "860ebc77-0a42-4647-90e1-017eed7a2308"
      },
      "source": [
        "df_result"
      ],
      "execution_count": 44,
      "outputs": [
        {
          "output_type": "execute_result",
          "data": {
            "text/html": [
              "<div>\n",
              "<style scoped>\n",
              "    .dataframe tbody tr th:only-of-type {\n",
              "        vertical-align: middle;\n",
              "    }\n",
              "\n",
              "    .dataframe tbody tr th {\n",
              "        vertical-align: top;\n",
              "    }\n",
              "\n",
              "    .dataframe thead th {\n",
              "        text-align: right;\n",
              "    }\n",
              "</style>\n",
              "<table border=\"1\" class=\"dataframe\">\n",
              "  <thead>\n",
              "    <tr style=\"text-align: right;\">\n",
              "      <th></th>\n",
              "      <th>0</th>\n",
              "      <th>1</th>\n",
              "      <th>2</th>\n",
              "      <th>3</th>\n",
              "      <th>4</th>\n",
              "      <th>5</th>\n",
              "      <th>6</th>\n",
              "    </tr>\n",
              "  </thead>\n",
              "  <tbody>\n",
              "    <tr>\n",
              "      <th>0</th>\n",
              "      <td>Horodateur</td>\n",
              "      <td>Number of students</td>\n",
              "      <td>Score in teaching</td>\n",
              "      <td>Score in research</td>\n",
              "      <td>Score in citations</td>\n",
              "      <td>Score in industry income</td>\n",
              "      <td>Score in international outlook</td>\n",
              "    </tr>\n",
              "    <tr>\n",
              "      <th>1</th>\n",
              "      <td>23/03/2021 15:37:14</td>\n",
              "      <td>5000</td>\n",
              "      <td>90</td>\n",
              "      <td>80</td>\n",
              "      <td>70</td>\n",
              "      <td>30</td>\n",
              "      <td>10</td>\n",
              "    </tr>\n",
              "  </tbody>\n",
              "</table>\n",
              "</div>"
            ],
            "text/plain": [
              "                     0  ...                               6\n",
              "0           Horodateur  ...  Score in international outlook\n",
              "1  23/03/2021 15:37:14  ...                              10\n",
              "\n",
              "[2 rows x 7 columns]"
            ]
          },
          "metadata": {
            "tags": []
          },
          "execution_count": 44
        }
      ]
    },
    {
      "cell_type": "code",
      "metadata": {
        "colab": {
          "base_uri": "https://localhost:8080/"
        },
        "id": "kSWw2cn452UH",
        "outputId": "f1890e44-69d7-478f-e9e5-b69b85be8b43"
      },
      "source": [
        "int(df_result.iloc[1,6])"
      ],
      "execution_count": 71,
      "outputs": [
        {
          "output_type": "execute_result",
          "data": {
            "text/plain": [
              "10"
            ]
          },
          "metadata": {
            "tags": []
          },
          "execution_count": 71
        }
      ]
    },
    {
      "cell_type": "markdown",
      "metadata": {
        "id": "e_ZVOL3YBav9"
      },
      "source": [
        "We write a function that our bot will call to give the recommandations to the user. We first normalize the data in the dataset from the forms. We then append our new data to df_pred. Finally, we call prediction() on our new row et give the results, which will be displayed by Universe on the Discord server."
      ]
    },
    {
      "cell_type": "code",
      "metadata": {
        "id": "rNMk4jM53Gr5"
      },
      "source": [
        "def recommandation():\n",
        "  #normalization\n",
        "  nb = int(df_result.iloc[1,1]) / np.sqrt(int(df_result.iloc[1,1]))\n",
        "  t = int(df_result.iloc[1,2]) / np.sqrt(int(df_result.iloc[1,2]))\n",
        "  r = int(df_result.iloc[1,3]) / np.sqrt(int(df_result.iloc[1,3]))\n",
        "  c = int(df_result.iloc[1,4]) / np.sqrt(int(df_result.iloc[1,4]))\n",
        "  i = int(df_result.iloc[1,5]) / np.sqrt(int(df_result.iloc[1,5]))\n",
        "  o = int(df_result.iloc[1,6]) / np.sqrt(int(df_result.iloc[1,6]))\n",
        "  df_res = df_pred.append({'Number_students': nb, 'Teaching': t, 'Research': r, 'Citations': c, 'Industry_Income': i, 'International_Outlook': o}, ignore_index=True)\n",
        "  #prediction\n",
        "  result = prediction(nb,t,r,c,i,o, df_res)\n",
        "  recommandations = results(result)\n",
        "  return recommandations"
      ],
      "execution_count": 66,
      "outputs": []
    },
    {
      "cell_type": "code",
      "metadata": {
        "colab": {
          "base_uri": "https://localhost:8080/"
        },
        "id": "WItGEW6m7jUR",
        "outputId": "6f3a0c8d-dd6a-40f5-8199-f515c628b0a8"
      },
      "source": [
        "recommandation()"
      ],
      "execution_count": 69,
      "outputs": [
        {
          "output_type": "execute_result",
          "data": {
            "text/plain": [
              "['Hyogo College of Medicine',\n",
              " 'St Marianna University School of Medicine',\n",
              " 'Nippon Medical School']"
            ]
          },
          "metadata": {
            "tags": []
          },
          "execution_count": 69
        }
      ]
    },
    {
      "cell_type": "markdown",
      "metadata": {
        "id": "3SI6vJQTCDyC"
      },
      "source": [
        "We also write a delete() function to remove the data in the df_result dataset. Thus, any time a user wants a recommandation and fill the forms, we only get the latest data."
      ]
    },
    {
      "cell_type": "code",
      "metadata": {
        "id": "RJl9n57S3nbr"
      },
      "source": [
        "def delete():\n",
        "  df_result.drop(labels = 1, inplace = True)"
      ],
      "execution_count": 77,
      "outputs": []
    },
    {
      "cell_type": "code",
      "metadata": {
        "colab": {
          "base_uri": "https://localhost:8080/",
          "height": 110
        },
        "id": "KmaAQUvA_4Ss",
        "outputId": "d9de8942-589e-4a90-9250-26c7af54a074"
      },
      "source": [
        "df_result"
      ],
      "execution_count": 78,
      "outputs": [
        {
          "output_type": "execute_result",
          "data": {
            "text/html": [
              "<div>\n",
              "<style scoped>\n",
              "    .dataframe tbody tr th:only-of-type {\n",
              "        vertical-align: middle;\n",
              "    }\n",
              "\n",
              "    .dataframe tbody tr th {\n",
              "        vertical-align: top;\n",
              "    }\n",
              "\n",
              "    .dataframe thead th {\n",
              "        text-align: right;\n",
              "    }\n",
              "</style>\n",
              "<table border=\"1\" class=\"dataframe\">\n",
              "  <thead>\n",
              "    <tr style=\"text-align: right;\">\n",
              "      <th></th>\n",
              "      <th>0</th>\n",
              "      <th>1</th>\n",
              "      <th>2</th>\n",
              "      <th>3</th>\n",
              "      <th>4</th>\n",
              "      <th>5</th>\n",
              "      <th>6</th>\n",
              "    </tr>\n",
              "  </thead>\n",
              "  <tbody>\n",
              "    <tr>\n",
              "      <th>0</th>\n",
              "      <td>Horodateur</td>\n",
              "      <td>Number of students</td>\n",
              "      <td>Score in teaching</td>\n",
              "      <td>Score in research</td>\n",
              "      <td>Score in citations</td>\n",
              "      <td>Score in industry income</td>\n",
              "      <td>Score in international outlook</td>\n",
              "    </tr>\n",
              "    <tr>\n",
              "      <th>1</th>\n",
              "      <td>23/03/2021 15:37:14</td>\n",
              "      <td>5000</td>\n",
              "      <td>90</td>\n",
              "      <td>80</td>\n",
              "      <td>70</td>\n",
              "      <td>30</td>\n",
              "      <td>10</td>\n",
              "    </tr>\n",
              "  </tbody>\n",
              "</table>\n",
              "</div>"
            ],
            "text/plain": [
              "                     0  ...                               6\n",
              "0           Horodateur  ...  Score in international outlook\n",
              "1  23/03/2021 15:37:14  ...                              10\n",
              "\n",
              "[2 rows x 7 columns]"
            ]
          },
          "metadata": {
            "tags": []
          },
          "execution_count": 78
        }
      ]
    },
    {
      "cell_type": "code",
      "metadata": {
        "id": "j7tV0CSL_qMo"
      },
      "source": [
        "delete()"
      ],
      "execution_count": 79,
      "outputs": []
    },
    {
      "cell_type": "code",
      "metadata": {
        "colab": {
          "base_uri": "https://localhost:8080/",
          "height": 79
        },
        "id": "fg0wuKmlBIZF",
        "outputId": "cb18d34a-9f68-41b3-b06d-7f1581eea1cf"
      },
      "source": [
        "df_result"
      ],
      "execution_count": 81,
      "outputs": [
        {
          "output_type": "execute_result",
          "data": {
            "text/html": [
              "<div>\n",
              "<style scoped>\n",
              "    .dataframe tbody tr th:only-of-type {\n",
              "        vertical-align: middle;\n",
              "    }\n",
              "\n",
              "    .dataframe tbody tr th {\n",
              "        vertical-align: top;\n",
              "    }\n",
              "\n",
              "    .dataframe thead th {\n",
              "        text-align: right;\n",
              "    }\n",
              "</style>\n",
              "<table border=\"1\" class=\"dataframe\">\n",
              "  <thead>\n",
              "    <tr style=\"text-align: right;\">\n",
              "      <th></th>\n",
              "      <th>0</th>\n",
              "      <th>1</th>\n",
              "      <th>2</th>\n",
              "      <th>3</th>\n",
              "      <th>4</th>\n",
              "      <th>5</th>\n",
              "      <th>6</th>\n",
              "    </tr>\n",
              "  </thead>\n",
              "  <tbody>\n",
              "    <tr>\n",
              "      <th>0</th>\n",
              "      <td>Horodateur</td>\n",
              "      <td>Number of students</td>\n",
              "      <td>Score in teaching</td>\n",
              "      <td>Score in research</td>\n",
              "      <td>Score in citations</td>\n",
              "      <td>Score in industry income</td>\n",
              "      <td>Score in international outlook</td>\n",
              "    </tr>\n",
              "  </tbody>\n",
              "</table>\n",
              "</div>"
            ],
            "text/plain": [
              "            0  ...                               6\n",
              "0  Horodateur  ...  Score in international outlook\n",
              "\n",
              "[1 rows x 7 columns]"
            ]
          },
          "metadata": {
            "tags": []
          },
          "execution_count": 81
        }
      ]
    }
  ]
}